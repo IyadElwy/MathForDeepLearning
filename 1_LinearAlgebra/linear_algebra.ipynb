{
 "cells": [
  {
   "cell_type": "code",
   "execution_count": 16,
   "outputs": [],
   "source": [
    "import tensorflow as tf\n",
    "import numpy as np\n",
    "import seaborn as sns\n",
    "import matplotlib.pyplot as plt"
   ],
   "metadata": {
    "collapsed": false,
    "pycharm": {
     "name": "#%%\n"
    }
   }
  },
  {
   "cell_type": "markdown",
   "metadata": {
    "collapsed": true,
    "pycharm": {
     "name": "#%% md\n"
    }
   },
   "source": [
    "# Linear Algebra\n",
    "## Allows us to represent information through vectors, matrices and tensors"
   ]
  },
  {
   "cell_type": "markdown",
   "source": [
    "## Index\n",
    "\n",
    "- Comparing scalars and vectors\n",
    "- Linear equations\n",
    "- Matrix operations\n",
    "- Vector spaces and subspaces\n",
    "- Linear maps\n",
    "- Matrix decomposition\n",
    "- Appendix (Definitions)"
   ],
   "metadata": {
    "collapsed": false
   }
  },
  {
   "cell_type": "markdown",
   "source": [
    "# Comparing scalars and vectors"
   ],
   "metadata": {
    "collapsed": false
   }
  },
  {
   "cell_type": "markdown",
   "source": [
    "* Scalars are regular numbers\n",
    "    - Only described by its **magnitude**\n",
    "\n",
    "* Vectors\n",
    "    - have magnitude and direction\n",
    "    - **in many dimensions**\n",
    "    - usually written bold\n",
    "\n",
    "\n",
    "<center><img src=\"https://www.grc.nasa.gov/www/k-12/airplane/Images/vectors.jpg\"/></center>\n"
   ],
   "metadata": {
    "collapsed": false
   }
  },
  {
   "cell_type": "markdown",
   "source": [
    "### Let's see an example of a vector\n",
    "here we have a vector *x*\n",
    "\n",
    "# $x= \\begin{bmatrix}\n",
    "x_{1}\\\\\n",
    "x_{2}\\\\\n",
    ".\\\\\n",
    ".\\\\\n",
    ".\\\\\n",
    "x_{n}\n",
    "\\end{bmatrix} $"
   ],
   "metadata": {
    "collapsed": false
   }
  },
  {
   "cell_type": "code",
   "execution_count": 2,
   "outputs": [
    {
     "data": {
      "text/plain": "'The shape is (3,)'"
     },
     "execution_count": 2,
     "metadata": {},
     "output_type": "execute_result"
    }
   ],
   "source": [
    "x1 = 1\n",
    "x2 = 2\n",
    "xn = 100\n",
    "x = tf.constant([x1, x2, xn])\n",
    "f'The shape is {x.numpy().shape}'"
   ],
   "metadata": {
    "collapsed": false,
    "pycharm": {
     "name": "#%%\n"
    }
   }
  },
  {
   "cell_type": "markdown",
   "source": [
    "### This indicates how vectors can only have shapes of (n, 1) where $n\\in \\mathbb{N} $\n",
    "### But it could be that $x_{n}\\in\\mathbb{R}$\n",
    "\n",
    "- $\\mathbb{R}$ = Natural numbers are all the positive integers starting from 1 to infinity\n",
    "- $\\mathbb{N}$ = Real numbers are numbers that include both rational and irrational numbers. Rational numbers such as\n",
    " integers (-2, 0, 1), fractions(1/2, 2.5) and irrational numbers such as √3, π(22/7), etc., are all real numbers.\n",
    "\n"
   ],
   "metadata": {
    "collapsed": false
   }
  },
  {
   "cell_type": "markdown",
   "source": [
    "### As with regular numbers, we can add and subtract vectors (with some limitations)\n",
    "\n",
    "### $\\begin{bmatrix}\n",
    "x_{1}\\\\\n",
    "x_{2}\\\\\n",
    ".\\\\\n",
    ".\\\\\n",
    ".\\\\\n",
    "x_{n}\n",
    "\\end{bmatrix} +\n",
    "\\begin{bmatrix}\n",
    "y_{1}\\\\\n",
    "y_{2}\\\\\n",
    ".\\\\\n",
    ".\\\\\n",
    ".\\\\\n",
    "y_{n}\n",
    "\\end{bmatrix} =\n",
    "\\begin{bmatrix}\n",
    "x_{1}+y_{1}\\\\\n",
    "x_{2}+y_{2}\\\\\n",
    ".\\\\\n",
    ".\\\\\n",
    ".\\\\\n",
    "x_{n}+y_{n}\n",
    "\\end{bmatrix}$\n",
    "\n",
    "### However they must match in **dimensions**"
   ],
   "metadata": {
    "collapsed": false
   }
  },
  {
   "cell_type": "code",
   "execution_count": 3,
   "outputs": [
    {
     "data": {
      "text/plain": "'Shape(x): (3,) = Shape(y): (3,)'"
     },
     "execution_count": 3,
     "metadata": {},
     "output_type": "execute_result"
    }
   ],
   "source": [
    "x = tf.constant([1, 2, 3])\n",
    "y = tf.constant([2, 1, 0])\n",
    "\n",
    "# Here we have 2 vectors x & y\n",
    "# we can perform addition and subtraction on these vectors because they have the same dimensions\n",
    "f'Shape(x): {x.shape} = Shape(y): {y.shape}'"
   ],
   "metadata": {
    "collapsed": false,
    "pycharm": {
     "name": "#%%\n"
    }
   }
  },
  {
   "cell_type": "code",
   "execution_count": 4,
   "outputs": [
    {
     "data": {
      "text/plain": "<tf.Tensor: shape=(3,), dtype=int32, numpy=array([3, 3, 3])>"
     },
     "execution_count": 4,
     "metadata": {},
     "output_type": "execute_result"
    }
   ],
   "source": [
    "# Now if we perform addition we can expect a vector of dimension 3 consisting of 3 3`s\n",
    "x + y"
   ],
   "metadata": {
    "collapsed": false,
    "pycharm": {
     "name": "#%%\n"
    }
   }
  },
  {
   "cell_type": "markdown",
   "source": [
    "#### Before we move we should also know about Scalar multiplication with Vectors\n",
    "\n",
    "# $\\lambda x=\\lambda\\begin{bmatrix}\n",
    "x_{1}\\\\\n",
    "x_{2}\\\\\n",
    ".\\\\\n",
    ".\\\\\n",
    ".\\\\\n",
    "x_{n}\n",
    "\\end{bmatrix}\n",
    "=\n",
    "\\begin{bmatrix}\n",
    "\\lambda x_{1}\\\\\n",
    "\\lambda x_{2}\\\\\n",
    ".\\\\\n",
    ".\\\\\n",
    ".\\\\\n",
    "\\lambda x_{n}\n",
    "\\end{bmatrix}\n",
    "$\n",
    "\n",
    "#### As we can see $\\lambda$ gets multiplied with each $x_{i}$ in the vector. The result is that the vector gets scaled by the value of the scaler $\\lambda$"
   ],
   "metadata": {
    "collapsed": false
   }
  },
  {
   "cell_type": "markdown",
   "source": [
    "# Linear Equations\n",
    "\n",
    "#### Linear Algebra at its core is about solving a set of linear equations, referred to as a **system of equations**"
   ],
   "metadata": {
    "collapsed": false
   }
  },
  {
   "cell_type": "markdown",
   "source": [
    "## Let's take two equations as an example:\n",
    "\n",
    "### $\n",
    "x-2y=1\\\\\n",
    "2x+y=7\n",
    "$\n",
    "\n",
    "Both equations produce straight lines. The solution to both equations is the point where they intersect\n",
    "In our case we will write the equations as **vector equations**:\n",
    "\n",
    "### $\n",
    "x\n",
    "\\begin{bmatrix}\n",
    "1\\\\\n",
    "2\n",
    "\\end{bmatrix}\n",
    "+\n",
    "y\n",
    "\\begin{bmatrix}\n",
    "-2\\\\\n",
    "1\n",
    "\\end{bmatrix}\n",
    "=\n",
    "x\n",
    "\\begin{bmatrix}\n",
    "1\\\\\n",
    "7\n",
    "\\end{bmatrix}\n",
    "=\n",
    "b\n",
    "\n",
    "$\n",
    "\n",
    "Here **b** is the result vector\n",
    "### But how can we solve for b ?"
   ],
   "metadata": {
    "collapsed": false,
    "pycharm": {
     "name": "#%% md\n"
    }
   }
  },
  {
   "cell_type": "markdown",
   "source": [
    "### Using what is known as the **coefficient matrix**, we can express the system of equations as a matrix problem in the form of $Av=b$:\n",
    "\n",
    "#### $\n",
    "\\begin{bmatrix}\n",
    "1 & -2\\\\\n",
    "2 & 1\n",
    "\\end{bmatrix}\n",
    "\\begin{bmatrix}\n",
    "x\\\\\n",
    "y\n",
    "\\end{bmatrix}\n",
    "=\n",
    "\\begin{bmatrix}\n",
    "1\\\\\n",
    "7\n",
    "\\end{bmatrix}\n",
    "$\n",
    "\n",
    "### Moving on, we'll express most of our problems in this format."
   ],
   "metadata": {
    "collapsed": false
   }
  },
  {
   "cell_type": "markdown",
   "source": [
    "### As the process of solving for an equation starts getting into matrices, we'll need to develop an understanding of some of the core matrix operations\n",
    "\n",
    "\n",
    "#### This part of the equation requires multiplication of A and v:\n",
    "#### $\n",
    "\\begin{bmatrix}\n",
    "1 & -2\\\\\n",
    "2 & 1\n",
    "\\end{bmatrix}\n",
    "\\begin{bmatrix}\n",
    "x\\\\\n",
    "y\n",
    "\\end{bmatrix}\n",
    "$\n",
    "\n",
    "#### so this is what we'll look at first.\n"
   ],
   "metadata": {
    "collapsed": false
   }
  },
  {
   "cell_type": "markdown",
   "source": [
    "#### Take this matrix multiplication for example:\n",
    "\n",
    "#### $\n",
    "\\begin{bmatrix}\n",
    "a & b & c\\\\\n",
    "d & e & f\\\\\n",
    "g & h & i\n",
    "\\end{bmatrix}\n",
    "\\begin{bmatrix}\n",
    "v_{1}\\\\\n",
    "v_{2}\\\\\n",
    "v_{3}\\\\\n",
    "v_{4}\n",
    "\\end{bmatrix}\n",
    "=\n",
    "\\begin{bmatrix}\n",
    "av_{1} + bv_{2} + cv_{3}\\\\\n",
    "dv_{1} + ev_{2} + fv_{3}\\\\\n",
    "gv_{1} + hv_{2} + iv_{3}\\\\\n",
    "\\end{bmatrix}\n",
    "=\n",
    "v_{1}\n",
    "\\begin{bmatrix}\n",
    "a\\\\\n",
    "d\\\\\n",
    "g\n",
    "\\end{bmatrix}\n",
    "+\n",
    "v_{2}\n",
    "\\begin{bmatrix}\n",
    "b\\\\\n",
    "e\\\\\n",
    "h\n",
    "\\end{bmatrix}\n",
    "+\n",
    "v_{3}\n",
    "\\begin{bmatrix}\n",
    "c\\\\\n",
    "f\\\\\n",
    "i\n",
    "\\end{bmatrix}\n",
    "$\n",
    "\n",
    "#### First and foremost we need to note that vector multiplication is only possible when the columns in the matrix are equal to the number of rows in the vector.\n",
    "#### Luckily this is the case in our matrix multiplication seen above where $M=3x3 \\;\\&\\; V=3x1$"
   ],
   "metadata": {
    "collapsed": false
   }
  },
  {
   "cell_type": "markdown",
   "source": [
    "#### There is another very important vector/matrix operation called the `dot product`, which is a type of multiplication\n",
    "#### Let's take two vectors in $\\mathbb{R}^{2}$ (2-D):\n",
    "\n",
    "#### $\n",
    "v=\\begin{bmatrix}\n",
    "v_{1}\\\\\n",
    "v_{2}\n",
    "\\end{bmatrix}\n",
    "\n",
    "w=\\begin{bmatrix}\n",
    "w_{1}\\\\\n",
    "w_{2}\n",
    "\\end{bmatrix}\n",
    "\n",
    "$\n"
   ],
   "metadata": {
    "collapsed": false
   }
  },
  {
   "cell_type": "markdown",
   "source": [
    "#### The following is the dot product:\n",
    "\n",
    "#### $\n",
    "v \\cdot w = v_{1}w_{1}+v_{2}w_{2}\n",
    "$\n",
    "\n",
    "#### Let's take a look at an example"
   ],
   "metadata": {
    "collapsed": false
   }
  },
  {
   "cell_type": "markdown",
   "source": [
    "#### Let there be 2 vectors:\n",
    "\n",
    "#### $\n",
    "v=\\begin{bmatrix}\n",
    "1\\\\\n",
    "2\n",
    "\\end{bmatrix}\n",
    "w=\\begin{bmatrix}\n",
    "-2\\\\\n",
    "1\n",
    "\\end{bmatrix}\n",
    "$"
   ],
   "metadata": {
    "collapsed": false
   }
  },
  {
   "cell_type": "code",
   "execution_count": 10,
   "outputs": [
    {
     "data": {
      "text/plain": "array([1, 2])"
     },
     "execution_count": 10,
     "metadata": {},
     "output_type": "execute_result"
    }
   ],
   "source": [
    "v = tf.constant([1, 2])\n",
    "v.numpy()"
   ],
   "metadata": {
    "collapsed": false,
    "pycharm": {
     "name": "#%%\n"
    }
   }
  },
  {
   "cell_type": "code",
   "execution_count": 9,
   "outputs": [
    {
     "data": {
      "text/plain": "array([-2,  1])"
     },
     "execution_count": 9,
     "metadata": {},
     "output_type": "execute_result"
    }
   ],
   "source": [
    "w = tf.constant([-2, 1])\n",
    "w.numpy()"
   ],
   "metadata": {
    "collapsed": false,
    "pycharm": {
     "name": "#%%\n"
    }
   }
  },
  {
   "cell_type": "code",
   "execution_count": 14,
   "outputs": [
    {
     "data": {
      "text/plain": "0"
     },
     "execution_count": 14,
     "metadata": {},
     "output_type": "execute_result"
    }
   ],
   "source": [
    "tf.tensordot(v, w, axes=1).numpy()"
   ],
   "metadata": {
    "collapsed": false,
    "pycharm": {
     "name": "#%%\n"
    }
   }
  },
  {
   "cell_type": "markdown",
   "source": [
    "#### Hmmm...\n",
    "#### We get 0 as a result of the dot-product for v & w\n",
    "\n",
    "#### If we do the calculations ourselves we'll see why:\n",
    "\n",
    "#### $\n",
    "v\\cdot w\n",
    "= \\begin{bmatrix}\n",
    "1\\\\\n",
    "2\n",
    "\\end{bmatrix}\n",
    "\\cdot\n",
    "\\begin{bmatrix}\n",
    "-2\\\\\n",
    "1\n",
    "\\end{bmatrix}\n",
    "= -2 + 2 = 0\n",
    "$"
   ],
   "metadata": {
    "collapsed": false
   }
  },
  {
   "cell_type": "markdown",
   "source": [
    "#### By getting 0 as the dot-product between two vectors we now know that the two vectors are perpendicular (there is a $90^{\\circ}$ angle between them and to further illustrate this have a look at the figure below"
   ],
   "metadata": {
    "collapsed": false
   }
  },
  {
   "cell_type": "code",
   "execution_count": 44,
   "outputs": [
    {
     "data": {
      "text/plain": "<Figure size 1440x720 with 1 Axes>",
      "image/png": "[encoded data removed]"
     },
     "metadata": {
      "needs_background": "light"
     },
     "output_type": "display_data"
    }
   ],
   "source": [
    "# We've added a 1 to the vector to add dimensionality to them\n",
    "plt.figure(figsize=(20, 10))\n",
    "sns.lineplot(x=[1, v.numpy()[0]], y=[1, v.numpy()[1]], color='red')\n",
    "sns.lineplot(x=[1, w.numpy()[0]], y=[1, w.numpy()[1]], color='green')\n",
    "plt.legend(labels=['v', 'w'])\n",
    "plt.show();"
   ],
   "metadata": {
    "collapsed": false,
    "pycharm": {
     "name": "#%%\n"
    }
   }
  },
  {
   "cell_type": "markdown",
   "source": [
    "#### We've taken some time to get to know some of the operations on matrices and vectors but now it's time to start solving linear equations with the help of them.\n",
    "\n",
    "#### But before we do so let's just have a look at some if the scenarios we will face when solving linear equations of the type $Av=b$\n",
    "\n",
    "### 1. If we have a matrix equation $\n",
    "\\begin{bmatrix}\n",
    "1 & 3\\\\\n",
    "3 & 9\n",
    "\\end{bmatrix}\n",
    "=\n",
    "\\begin{bmatrix}\n",
    "0\\\\\n",
    "9\n",
    "\\end{bmatrix}\n",
    "$\n",
    "#### we can deduce these following equations:\n",
    "#### 1- $1v_{1} + 3v_{2}=9$\n",
    "#### 2- $3v_{1} + 9v_{2}=0$\n",
    "\n",
    "#### Now let's say we multiply the first equation by 3 which gives us $3v_{1} + 9v_{2}=27$ but wasn't $3v_{1} + 9v_{2}$ equal to 0 ?\n",
    "#### This means that these two equations don't intersect and therefore have no solution\n",
    "#### Normally when one column is dependent on another(aka is a multiple of another column) all combinations of $\\begin{bmatrix}1\\\\3\\end{bmatrix}$ and $\\begin{bmatrix}3\\\\9\\end{bmatrix}$ lie in the same direction\n",
    "#### However, seeing as $b$ which is $\\begin{bmatrix}9\\\\0\\end{bmatrix}$ is not a combination of the two column vectors and does not lie on the same line, it cannot be a solution to the equation"
   ],
   "metadata": {
    "collapsed": false
   }
  },
  {
   "cell_type": "markdown",
   "source": [
    "### 2. But if $b=\\begin{bmatrix}5\\\\15\\end{bmatrix}$ it's another story\n",
    "#### If you try the same thing we did with $\\begin{bmatrix}9\\\\0\\end{bmatrix}$ but with our new $b$ you'll find that there is a solution to the equation (new $b$ is on the line)\n",
    "\n",
    "#### Since $b$ is on the line and is a combination of the dependent vectors there are infinite number of solutions ($b$ is in the column space if $A$)\n",
    "### There is only one specific combination of $v$ that produces $b$"
   ],
   "metadata": {
    "collapsed": false
   }
  },
  {
   "cell_type": "markdown",
   "source": [
    "### 3. There are infinite combinations of the column vectors that result in the zero vector $(0)$.\n",
    "#### For example for any value $a$ we have the following:\n",
    "#### $3a\\begin{bmatrix}1\\\\3\\end{bmatrix}-1a\\begin{bmatrix}3\\\\9\\end{bmatrix}=\\begin{bmatrix}0\\\\0\\end{bmatrix}$\n",
    "\n",
    "### This concept is what makes the \"Complete Solution\"\n",
    "#### The complete solution is all the possible ways to produce $b=\\begin{bmatrix}5\\\\15\\end{bmatrix}$\n"
   ],
   "metadata": {
    "collapsed": false
   }
  },
  {
   "cell_type": "markdown",
   "source": [
    "# Solving linear equations in $n-dimensions$"
   ],
   "metadata": {
    "collapsed": false
   }
  },
  {
   "cell_type": "code",
   "execution_count": null,
   "outputs": [],
   "source": [],
   "metadata": {
    "collapsed": false,
    "pycharm": {
     "name": "#%%\n"
    }
   }
  }
 ],
 "metadata": {
  "kernelspec": {
   "display_name": "Python 3",
   "language": "python",
   "name": "python3"
  },
  "language_info": {
   "codemirror_mode": {
    "name": "ipython",
    "version": 2
   },
   "file_extension": ".py",
   "mimetype": "text/x-python",
   "name": "python",
   "nbconvert_exporter": "python",
   "pygments_lexer": "ipython2",
   "version": "2.7.6"
  }
 },
 "nbformat": 4,
 "nbformat_minor": 0
}