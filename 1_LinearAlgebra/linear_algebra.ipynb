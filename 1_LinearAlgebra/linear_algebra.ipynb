{
 "cells": [
  {
   "cell_type": "code",
   "execution_count": 1,
   "outputs": [],
   "source": [
    "import tensorflow as tf\n",
    "import numpy as np"
   ],
   "metadata": {
    "collapsed": false,
    "pycharm": {
     "name": "#%%\n"
    }
   }
  },
  {
   "cell_type": "markdown",
   "metadata": {
    "collapsed": true,
    "pycharm": {
     "name": "#%% md\n"
    }
   },
   "source": [
    "# Linear Algebra\n",
    "## Allows us to represent information through vectors, matrices and tensors"
   ]
  },
  {
   "cell_type": "markdown",
   "source": [
    "## Index\n",
    "\n",
    "- Comparing scalars and vectors\n",
    "- Linear equations\n",
    "- Matrix operations\n",
    "- Vector spaces and subspaces\n",
    "- Linear maps\n",
    "- Matrix decomposition\n",
    "- Appendix (Definitions)"
   ],
   "metadata": {
    "collapsed": false
   }
  },
  {
   "cell_type": "markdown",
   "source": [
    "# Comparing scalars and vectors"
   ],
   "metadata": {
    "collapsed": false
   }
  },
  {
   "cell_type": "markdown",
   "source": [
    "* Scalars are regular numbers\n",
    "    - Only described by its **magnitude**\n",
    "\n",
    "* Vectors\n",
    "    - have magnitude and direction\n",
    "    - **in many dimensions**\n",
    "    - usually written bold\n",
    "\n",
    "\n",
    "<center><img src=\"https://www.grc.nasa.gov/www/k-12/airplane/Images/vectors.jpg\"/></center>\n"
   ],
   "metadata": {
    "collapsed": false
   }
  },
  {
   "cell_type": "markdown",
   "source": [
    "### Let's see an example of a vector\n",
    "here we have a vector *x*\n",
    "\n",
    "# $x= \\begin{bmatrix}\n",
    "x_{1}\\\\\n",
    "x_{2}\\\\\n",
    ".\\\\\n",
    ".\\\\\n",
    ".\\\\\n",
    "x_{n}\n",
    "\\end{bmatrix} $"
   ],
   "metadata": {
    "collapsed": false
   }
  },
  {
   "cell_type": "code",
   "execution_count": 8,
   "outputs": [
    {
     "data": {
      "text/plain": "'The shape is (3,)'"
     },
     "execution_count": 8,
     "metadata": {},
     "output_type": "execute_result"
    }
   ],
   "source": [
    "x1 = 1\n",
    "x2 = 2\n",
    "xn = 100\n",
    "x = tf.constant([x1, x2, xn])\n",
    "f'The shape is {x.numpy().shape}'"
   ],
   "metadata": {
    "collapsed": false,
    "pycharm": {
     "name": "#%%\n"
    }
   }
  },
  {
   "cell_type": "markdown",
   "source": [
    "### This indicates how vectors can only have shapes of (n, 1) where $n\\in \\mathbb{N} $\n",
    "### But it could be that $x_{n}\\in\\mathbb{R}$\n",
    "\n",
    "- $\\mathbb{R}$ = Natural numbers are all the positive integers starting from 1 to infinity\n",
    "- $\\mathbb{N}$ = Real numbers are numbers that include both rational and irrational numbers. Rational numbers such as\n",
    " integers (-2, 0, 1), fractions(1/2, 2.5) and irrational numbers such as √3, π(22/7), etc., are all real numbers.\n",
    "\n"
   ],
   "metadata": {
    "collapsed": false
   }
  },
  {
   "cell_type": "markdown",
   "source": [],
   "metadata": {
    "collapsed": false
   }
  },
  {
   "cell_type": "code",
   "execution_count": null,
   "outputs": [],
   "source": [],
   "metadata": {
    "collapsed": false,
    "pycharm": {
     "name": "#%%\n"
    }
   }
  }
 ],
 "metadata": {
  "kernelspec": {
   "display_name": "Python 3",
   "language": "python",
   "name": "python3"
  },
  "language_info": {
   "codemirror_mode": {
    "name": "ipython",
    "version": 2
   },
   "file_extension": ".py",
   "mimetype": "text/x-python",
   "name": "python",
   "nbconvert_exporter": "python",
   "pygments_lexer": "ipython2",
   "version": "2.7.6"
  }
 },
 "nbformat": 4,
 "nbformat_minor": 0
}