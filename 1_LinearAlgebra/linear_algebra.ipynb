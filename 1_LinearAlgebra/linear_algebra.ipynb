{
 "cells": [
  {
   "cell_type": "code",
   "execution_count": 3,
   "outputs": [],
   "source": [
    "import tensorflow as tf\n",
    "import numpy as np"
   ],
   "metadata": {
    "collapsed": false,
    "pycharm": {
     "name": "#%%\n"
    }
   }
  },
  {
   "cell_type": "markdown",
   "metadata": {
    "collapsed": true,
    "pycharm": {
     "name": "#%% md\n"
    }
   },
   "source": [
    "# Linear Algebra\n",
    "## Allows us to represent information through vectors, matrices and tensors"
   ]
  },
  {
   "cell_type": "markdown",
   "source": [
    "## Index\n",
    "\n",
    "- Comparing scalars and vectors\n",
    "- Linear equations\n",
    "- Matrix operations\n",
    "- Vector spaces and subspaces\n",
    "- Linear maps\n",
    "- Matrix decomposition\n",
    "- Appendix (Definitions)"
   ],
   "metadata": {
    "collapsed": false
   }
  },
  {
   "cell_type": "markdown",
   "source": [
    "# Comparing scalars and vectors"
   ],
   "metadata": {
    "collapsed": false
   }
  },
  {
   "cell_type": "markdown",
   "source": [
    "* Scalars are regular numbers\n",
    "    - Only described by its **magnitude**\n",
    "\n",
    "* Vectors\n",
    "    - have magnitude and direction\n",
    "    - **in many dimensions**\n",
    "    - usually written bold\n",
    "\n",
    "\n",
    "<center><img src=\"https://www.grc.nasa.gov/www/k-12/airplane/Images/vectors.jpg\"/></center>\n"
   ],
   "metadata": {
    "collapsed": false
   }
  },
  {
   "cell_type": "markdown",
   "source": [
    "### Let's see an example of a vector\n",
    "here we have a vector *x*\n",
    "\n",
    "# $x= \\begin{bmatrix}\n",
    "x_{1}\\\\\n",
    "x_{2}\\\\\n",
    ".\\\\\n",
    ".\\\\\n",
    ".\\\\\n",
    "x_{n}\n",
    "\\end{bmatrix} $"
   ],
   "metadata": {
    "collapsed": false
   }
  },
  {
   "cell_type": "code",
   "execution_count": 4,
   "outputs": [
    {
     "data": {
      "text/plain": "'The shape is (3,)'"
     },
     "execution_count": 4,
     "metadata": {},
     "output_type": "execute_result"
    }
   ],
   "source": [
    "x1 = 1\n",
    "x2 = 2\n",
    "xn = 100\n",
    "x = tf.constant([x1, x2, xn])\n",
    "f'The shape is {x.numpy().shape}'"
   ],
   "metadata": {
    "collapsed": false,
    "pycharm": {
     "name": "#%%\n"
    }
   }
  },
  {
   "cell_type": "markdown",
   "source": [
    "### This indicates how vectors can only have shapes of (n, 1) where $n\\in \\mathbb{N} $\n",
    "### But it could be that $x_{n}\\in\\mathbb{R}$\n",
    "\n",
    "- $\\mathbb{R}$ = Natural numbers are all the positive integers starting from 1 to infinity\n",
    "- $\\mathbb{N}$ = Real numbers are numbers that include both rational and irrational numbers. Rational numbers such as\n",
    " integers (-2, 0, 1), fractions(1/2, 2.5) and irrational numbers such as √3, π(22/7), etc., are all real numbers.\n",
    "\n"
   ],
   "metadata": {
    "collapsed": false
   }
  },
  {
   "cell_type": "markdown",
   "source": [
    "### As with regular numbers, we can add and subtract vectors (with some limitations)\n",
    "\n",
    "### $\\begin{bmatrix}\n",
    "x_{1}\\\\\n",
    "x_{2}\\\\\n",
    ".\\\\\n",
    ".\\\\\n",
    ".\\\\\n",
    "x_{n}\n",
    "\\end{bmatrix} +\n",
    "\\begin{bmatrix}\n",
    "y_{1}\\\\\n",
    "y_{2}\\\\\n",
    ".\\\\\n",
    ".\\\\\n",
    ".\\\\\n",
    "y_{n}\n",
    "\\end{bmatrix} =\n",
    "\\begin{bmatrix}\n",
    "x_{1}+y_{1}\\\\\n",
    "x_{2}+y_{2}\\\\\n",
    ".\\\\\n",
    ".\\\\\n",
    ".\\\\\n",
    "x_{n}+y_{n}\n",
    "\\end{bmatrix}$\n",
    "\n",
    "### However they must match in **dimensions**"
   ],
   "metadata": {
    "collapsed": false
   }
  },
  {
   "cell_type": "code",
   "execution_count": 6,
   "outputs": [
    {
     "data": {
      "text/plain": "'Shape(x): (3,) = Shape(y): (3,)'"
     },
     "execution_count": 6,
     "metadata": {},
     "output_type": "execute_result"
    }
   ],
   "source": [
    "x = tf.constant([1, 2, 3])\n",
    "y = tf.constant([2, 1, 0])\n",
    "\n",
    "# Here we have 2 vectors x & y\n",
    "# we can perform addition and subtraction on these vectors because they have the same dimensions\n",
    "f'Shape(x): {x.shape} = Shape(y): {y.shape}'"
   ],
   "metadata": {
    "collapsed": false,
    "pycharm": {
     "name": "#%%\n"
    }
   }
  },
  {
   "cell_type": "code",
   "execution_count": 8,
   "outputs": [
    {
     "data": {
      "text/plain": "<tf.Tensor: shape=(3,), dtype=int32, numpy=array([3, 3, 3])>"
     },
     "execution_count": 8,
     "metadata": {},
     "output_type": "execute_result"
    }
   ],
   "source": [
    "# Now if we perform addition we can expect a vector of dimension 3 consisting of 3 3`s\n",
    "x + y"
   ],
   "metadata": {
    "collapsed": false,
    "pycharm": {
     "name": "#%%\n"
    }
   }
  },
  {
   "cell_type": "markdown",
   "source": [
    "#### Before we move we should also know about Scalar multiplication with Vectors\n",
    "\n",
    "# $\\lambda x=\\lambda\\begin{bmatrix}\n",
    "x_{1}\\\\\n",
    "x_{2}\\\\\n",
    ".\\\\\n",
    ".\\\\\n",
    ".\\\\\n",
    "x_{n}\n",
    "\\end{bmatrix}\n",
    "=\n",
    "\\begin{bmatrix}\n",
    "\\lambda x_{1}\\\\\n",
    "\\lambda x_{2}\\\\\n",
    ".\\\\\n",
    ".\\\\\n",
    ".\\\\\n",
    "\\lambda x_{n}\n",
    "\\end{bmatrix}\n",
    "$\n",
    "\n",
    "#### As we can see $\\lambda$ gets multiplied with each $x_{i}$ in the vector. The result is that the vector gets scaled by the value of the scaler $\\lambda$"
   ],
   "metadata": {
    "collapsed": false
   }
  },
  {
   "cell_type": "markdown",
   "source": [
    "# Linear Equations\n",
    "\n",
    "#### Linear Algebra at its core is about solving a set of linear equations, referred to as a **system of equations**"
   ],
   "metadata": {
    "collapsed": false
   }
  },
  {
   "cell_type": "markdown",
   "source": [
    "## Let's take two equations as an example:\n",
    "\n",
    "### $\n",
    "x-2y=1\\\\\n",
    "2x+y=7\n",
    "$\n",
    "\n",
    "Both equations produce straight lines. The solution to both equations is the point where they intersect\n",
    "In our case we will write the equations as **vector equations**:\n",
    "\n",
    "### $\n",
    "x\n",
    "\\begin{bmatrix}\n",
    "1\\\\\n",
    "2\n",
    "\\end{bmatrix}\n",
    "+\n",
    "y\n",
    "\\begin{bmatrix}\n",
    "-2\\\\\n",
    "1\n",
    "\\end{bmatrix}\n",
    "=\n",
    "x\n",
    "\\begin{bmatrix}\n",
    "1\\\\\n",
    "7\n",
    "\\end{bmatrix}\n",
    "=\n",
    "b\n",
    "\n",
    "$\n",
    "\n",
    "Here **b** is the result vector\n",
    "### But how can we solve for b ?"
   ],
   "metadata": {
    "collapsed": false,
    "pycharm": {
     "name": "#%% md\n"
    }
   }
  },
  {
   "cell_type": "markdown",
   "source": [
    "### Using what is known as the **coefficient matrix**, we can express the system of equations as a matrix problem in the form of $Av=b$:\n",
    "\n",
    "#### $\n",
    "\\begin{bmatrix}\n",
    "1 & -2\\\\\n",
    "2 & 1\n",
    "\\end{bmatrix}\n",
    "\\begin{bmatrix}\n",
    "x\\\\\n",
    "y\n",
    "\\end{bmatrix}\n",
    "=\n",
    "\\begin{bmatrix}\n",
    "1\\\\\n",
    "7\n",
    "\\end{bmatrix}\n",
    "$\n",
    "\n",
    "### Moving on, we'll express most of our problems in this format."
   ],
   "metadata": {
    "collapsed": false
   }
  },
  {
   "cell_type": "markdown",
   "source": [
    "### As the process of solving for an equation starts getting into matrices, we'll need to develop an understanding of some of the core matrix operations\n",
    "\n",
    "\n",
    "#### This part of the equation requires multiplication of A and v:\n",
    "#### $\n",
    "\\begin{bmatrix}\n",
    "1 & -2\\\\\n",
    "2 & 1\n",
    "\\end{bmatrix}\n",
    "\\begin{bmatrix}\n",
    "x\\\\\n",
    "y\n",
    "\\end{bmatrix}\n",
    "$\n",
    "\n",
    "\n"
   ],
   "metadata": {
    "collapsed": false
   }
  },
  {
   "cell_type": "code",
   "execution_count": null,
   "outputs": [],
   "source": [],
   "metadata": {
    "collapsed": false,
    "pycharm": {
     "name": "#%%\n"
    }
   }
  }
 ],
 "metadata": {
  "kernelspec": {
   "display_name": "Python 3",
   "language": "python",
   "name": "python3"
  },
  "language_info": {
   "codemirror_mode": {
    "name": "ipython",
    "version": 2
   },
   "file_extension": ".py",
   "mimetype": "text/x-python",
   "name": "python",
   "nbconvert_exporter": "python",
   "pygments_lexer": "ipython2",
   "version": "2.7.6"
  }
 },
 "nbformat": 4,
 "nbformat_minor": 0
}